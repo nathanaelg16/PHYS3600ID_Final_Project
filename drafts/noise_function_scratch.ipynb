{
 "cells": [
  {
   "cell_type": "code",
   "execution_count": 1,
   "metadata": {},
   "outputs": [],
   "source": [
    "import pandas as pd\n",
    "import numpy as np\n",
    "import matplotlib\n",
    "import matplotlib.pyplot as plt\n",
    "import random\n",
    "%matplotlib inline\n",
    "\n",
    "\n",
    "def add_noise(df, percent):\n",
    "    \"\"\"\n",
    "    Add a percetange of noise to a Pandas DataFrame.\n",
    "    Returns a new Pandas DataFrame containing the noise.\n",
    "    \n",
    "    Positional arguments:\n",
    "    - df : a Pandas DataFrame\n",
    "    - percent: percentage of noise desired, as a float. \n",
    "               For example, a value of 0.10 is 10%. \n",
    "               Similarly a value of 1.15 is 115%. \n",
    "    \"\"\"\n",
    "    ndf = pd.DataFrame()\n",
    "    for i in range(len(df.columns)):\n",
    "        mean = df[i] * percent\n",
    "        gauss_dist = scipy.stats.norm.rvs(loc=mean, scale=0.000001, size=1000)\n",
    "        ndf[i] = df[i] + gauss_dist\n",
    "        \n",
    "    return ndf"
   ]
  },
  {
   "cell_type": "code",
   "execution_count": null,
   "metadata": {},
   "outputs": [],
   "source": []
  }
 ],
 "metadata": {
  "kernelspec": {
   "display_name": "Python 3",
   "language": "python",
   "name": "python3"
  },
  "language_info": {
   "codemirror_mode": {
    "name": "ipython",
    "version": 3
   },
   "file_extension": ".py",
   "mimetype": "text/x-python",
   "name": "python",
   "nbconvert_exporter": "python",
   "pygments_lexer": "ipython3",
   "version": "3.8.3"
  }
 },
 "nbformat": 4,
 "nbformat_minor": 4
}
